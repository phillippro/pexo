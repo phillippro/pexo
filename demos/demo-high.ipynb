{
 "cells": [
  {
   "cell_type": "markdown",
   "metadata": {},
   "source": [
    "[< list of demos](Introduction.ipynb#demos)\n",
    "\n",
    "<a id='top'></a>\n",
    "# High order effects _(single star)_\n",
    "\n",
    "This demo shows the output of the GR (general relativistic) and SR (special relativistic) radial velocities for the target (T) and for the observer (or Solar System GR and SR effects)."
   ]
  },
  {
   "cell_type": "markdown",
   "metadata": {},
   "source": [
    "## Arguments:\n",
    "\n",
    "`-p HD10700` - primary star: τ Ceti\n",
    "\n",
    "`-i 'HARPS'` - instrument: HARPS\n",
    "\n",
    "`-t '2450000 2453000 10'` - epochs, JD from 2450000 to 2453000, every 10 days\n",
    "\n",
    "`-m emulate` - PEXO mode\n",
    "\n",
    "`-v 'JDutc RvgT RvsT RvgsO'` - output variables\n",
    "\n",
    "`-o ../results/high-out.txt` - output file path"
   ]
  },
  {
   "cell_type": "markdown",
   "metadata": {},
   "source": [
    "## Run the code\n",
    "\n",
    "Execute PEXO with the command below. This may under a minute to compute."
   ]
  },
  {
   "cell_type": "code",
   "execution_count": 1,
   "metadata": {
    "scrolled": false
   },
   "outputs": [
    {
     "name": "stdout",
     "output_type": "stream",
     "text": [
      "/home/timberhill/repositories/pexo/code\n",
      "Warning message:\n",
      "package ‘optparse’ was built under R version 3.6.3 \n",
      "Loading required package: polynom\n",
      "Warning messages:\n",
      "1: package ‘orthopolynom’ was built under R version 3.6.3 \n",
      "2: package ‘polynom’ was built under R version 3.6.3 \n",
      "\n",
      "Attaching package: ‘pracma’\n",
      "\n",
      "The following object is masked from ‘package:polynom’:\n",
      "\n",
      "    integral\n",
      "\n",
      "Warning message:\n",
      "package ‘pracma’ was built under R version 3.6.3 \n",
      "Warning message:\n",
      "package ‘foreach’ was built under R version 3.6.3 \n",
      "Loading required package: iterators\n",
      "Loading required package: parallel\n",
      "Warning messages:\n",
      "1: package ‘doMC’ was built under R version 3.6.3 \n",
      "2: package ‘iterators’ was built under R version 3.6.3 \n",
      "\n",
      "Attaching package: ‘e1071’\n",
      "\n",
      "The following object is masked from ‘package:pracma’:\n",
      "\n",
      "    sigmoid\n",
      "\n",
      "Warning message:\n",
      "package ‘e1071’ was built under R version 3.6.3 \n",
      "Warning message:\n",
      "package ‘MASS’ was built under R version 3.6.3 \n",
      "Loading required package: spam\n",
      "Loading required package: dotCall64\n",
      "Loading required package: grid\n",
      "Spam version 2.5-1 (2019-12-12) is loaded.\n",
      "Type 'help( Spam)' or 'demo( spam)' for a short introduction \n",
      "and overview of this package.\n",
      "Help for individual functions is also obtained by adding the\n",
      "suffix '.spam' to the function name, e.g. 'help( chol.spam)'.\n",
      "\n",
      "Attaching package: ‘spam’\n",
      "\n",
      "The following objects are masked from ‘package:base’:\n",
      "\n",
      "    backsolve, forwardsolve\n",
      "\n",
      "Loading required package: maps\n",
      "See https://github.com/NCAR/Fields for\n",
      " an extensive vignette, other supplements and source code \n",
      "\n",
      "Attaching package: ‘Matrix’\n",
      "\n",
      "The following object is masked from ‘package:spam’:\n",
      "\n",
      "    det\n",
      "\n",
      "The following objects are masked from ‘package:pracma’:\n",
      "\n",
      "    expm, lu, tril, triu\n",
      "\n",
      "\n",
      "Attaching package: ‘kernlab’\n",
      "\n",
      "The following objects are masked from ‘package:pracma’:\n",
      "\n",
      "    cross, eig, size\n",
      "\n",
      "Loading required package: mvtnorm\n",
      "\n",
      "Attaching package: ‘rootSolve’\n",
      "\n",
      "The following objects are masked from ‘package:pracma’:\n",
      "\n",
      "    gradient, hessian\n",
      "\n",
      "There were 11 warnings (use warnings() to see them)\n",
      "\n",
      "********************************************************\n",
      "Note: As of version 1.0.0, cowplot does not change the\n",
      "  default ggplot2 theme anymore. To recover the previous\n",
      "  behavior, execute:\n",
      "  theme_set(theme_cowplot())\n",
      "********************************************************\n",
      "\n",
      "\n",
      "Attaching package: ‘ggplot2’\n",
      "\n",
      "The following object is masked from ‘package:kernlab’:\n",
      "\n",
      "    alpha\n",
      "\n",
      "Warning messages:\n",
      "1: package ‘gridExtra’ was built under R version 3.6.3 \n",
      "2: package ‘cowplot’ was built under R version 3.6.3 \n",
      "3: package ‘ggplot2’ was built under R version 3.6.3 \n",
      "4: package ‘lattice’ was built under R version 3.6.3 \n",
      "\n",
      "Input Parameters:\n",
      "mode = emulate \tinstrument = HARPS \tNiter = 1000 \tCompanion = 0 \tgeometry = TRUE \tncore = 4 \tcomponent = TR \ttime = 2450000 2453000 10 \tprimary = HD10700 \tsecondary = NA \tmass = 1 \tvar = JDutc RvgT RvsT RvgsO \tout = ../results/high-out.txt \tfigure = FALSE \tverbose = FALSE \thelp = FALSE \tdata = ../input/HD10700 \tpar = ../input/basic.par \t\n",
      "\n",
      "Read data files:\n",
      "python cross_match_gaia_hip.py HD10700 \n",
      "Created TAP+ (v1.2.1) - Connection:\n",
      "\tHost: gea.esac.esa.int\n",
      "\tUse HTTPS: True\n",
      "\tPort: 443\n",
      "\tSSL Port: 443\n",
      "Created TAP+ (v1.2.1) - Connection:\n",
      "\tHost: geadata.esac.esa.int\n",
      "\tUse HTTPS: True\n",
      "\tPort: 443\n",
      "\tSSL Port: 443\n",
      "\n",
      " Astrometry information for HD10700 \n",
      "ra= 26.009 \n",
      "dec= -15.934 \n",
      "plx= 277.52 \n",
      "pmra= -1729.7 \n",
      "pmdec= 855.49 \n",
      "rv= -16.597 \n",
      "epoch= 2457206 \n",
      "\n",
      "PEXO will treat the target system as a single star!\n",
      "\n",
      "Loading ephermides and EOP and other auxiliary data!\n",
      "\n",
      " Plot and save results!\n",
      "\n",
      "save data to ../results/high-out.txt \n",
      "\n",
      "Timing effects:\n",
      "Instant second order roemer delay in the solar system: 0.0002916 second\n",
      "Einstein delay in the solar system: 0.001689 second\n",
      "Shapiro delay due to all solar system objects: 0.000029796 second\n",
      "Shapiro delay due to Sun : 0.000029796 second\n",
      "Delay due to proper motion: 1818.3 second\n",
      "Roemer delay in the target system: 0 second\n",
      "Einstein delay in the target system: 0 second\n",
      "Shapiro delay in TS: 0 second\n",
      "Delay due to atmospheric effect: 0.000000083342 second\n",
      "../results/AllTimes_HD10700_timing_kepler_Ntime301.pdf \n",
      "\n",
      "RV effects:\n",
      "Relativistic effects in solar system: 0.20066 m/s\n",
      "SR effect in TS: 0 m/s\n",
      "GR effect in TS: 0 m/s\n",
      "lensing effect in target system: 0 m/s\n",
      "Second order geometric effects in TS: 0.07359 m/s\n",
      "Third order geometric effects in TS: 0.00000011393 m/s\n",
      "Tropospheric RV: 0.0074704 m/s for elevation > 10 deg\n",
      "Tropospheric RV: 0.026532 m/s for elevation > 5 deg\n",
      "Tropospheric RV: 126.39 m/s for all elevation angles\n",
      "../results/paper_HD10700_RV_kepler_Ntime301_none.pdf \n",
      "Total computation time: 0.35 min\n"
     ]
    }
   ],
   "source": [
    "# cd into the code directory\n",
    "%cd ../code\n",
    "\n",
    "# run PEXO via the R script\n",
    "! Rscript pexo.R -p HD10700 -i HARPS -t '2450000 2453000 10' -m emulate -v 'JDutc RvgT RvsT RvgsO' -o ../results/high-out.txt"
   ]
  },
  {
   "cell_type": "markdown",
   "metadata": {},
   "source": [
    "## Output\n",
    "\n",
    "The output file (`high-out.txt`) contains a table with 5 columns, including Julian dates (UTC) and the high order effects (in m/s).\n",
    "\n",
    "`RvgT` - general and special relativistic effect on RV in the target system,\n",
    "\n",
    "`RvsT` - special relativitistic effect on RV in the target system,\n",
    "\n",
    "`RvgsO` - general and special relativistic effect on RV at the observatory or in the solar system.\n",
    "\n",
    "In this case the GR effects in the target system are 0 and SR effects are constant, because the model only includes a single star with no companions."
   ]
  },
  {
   "cell_type": "code",
   "execution_count": 1,
   "metadata": {
    "scrolled": false
   },
   "outputs": [
    {
     "data": {
      "text/html": [
       "<table style=\"text-align: left; font-size: 10pt\"><tr><th style=\"text-align: right; padding: 7px;\">JDutc1</th><th style=\"text-align: right; padding: 7px;\">JDutc2</th><th style=\"text-align: right; padding: 7px;\">RvgT</th><th style=\"text-align: right; padding: 7px;\">RvsT</th><th style=\"text-align: right; padding: 7px;\">RvgsO</th></tr><tr><td style=\"text-align: right; padding: 7px;\">2450000</td><td style=\"text-align: right; padding: 7px;\">0</td><td style=\"text-align: right; padding: 7px;\">0</td><td style=\"text-align: right; padding: 7px;\">2.271</td><td style=\"text-align: right; padding: 7px;\">4.641</td></tr><tr><td style=\"text-align: right; padding: 7px;\">2450010</td><td style=\"text-align: right; padding: 7px;\">0</td><td style=\"text-align: right; padding: 7px;\">0</td><td style=\"text-align: right; padding: 7px;\">2.271</td><td style=\"text-align: right; padding: 7px;\">4.661</td></tr><tr><td style=\"text-align: right; padding: 7px;\">2450020</td><td style=\"text-align: right; padding: 7px;\">0</td><td style=\"text-align: right; padding: 7px;\">0</td><td style=\"text-align: right; padding: 7px;\">2.271</td><td style=\"text-align: right; padding: 7px;\">4.677</td></tr><tr><td style=\"text-align: right; padding: 7px;\">2450030</td><td style=\"text-align: right; padding: 7px;\">0</td><td style=\"text-align: right; padding: 7px;\">0</td><td style=\"text-align: right; padding: 7px;\">2.271</td><td style=\"text-align: right; padding: 7px;\">4.691</td></tr><tr><td style=\"text-align: right; padding: 7px;\">...</td></tr><tr><td style=\"text-align: right; padding: 7px;\">2452990</td><td style=\"text-align: right; padding: 7px;\">0</td><td style=\"text-align: right; padding: 7px;\">0</td><td style=\"text-align: right; padding: 7px;\">2.271</td><td style=\"text-align: right; padding: 7px;\">4.729</td></tr></table>"
      ],
      "text/plain": [
       "<utilities.Table at 0x7f6a0c384a90>"
      ]
     },
     "execution_count": 1,
     "metadata": {},
     "output_type": "execute_result"
    }
   ],
   "source": [
    "from utilities import Table\n",
    "Table(\"../results/high-out.txt\")"
   ]
  },
  {
   "cell_type": "markdown",
   "metadata": {},
   "source": [
    "The plot below shows the high order effects (General and Special relativity) in Solar System and the Target System in m/s."
   ]
  },
  {
   "cell_type": "code",
   "execution_count": 2,
   "metadata": {},
   "outputs": [
    {
     "data": {
      "image/png": "[encoded data removed]",
      "text/plain": [
       "<Figure size 864x576 with 1 Axes>"
      ]
     },
     "metadata": {},
     "output_type": "display_data"
    }
   ],
   "source": [
    "from utilities import Plot\n",
    "p = Plot(\"../results/high-out.txt\").add_plot(xcol=[\"JDutc1\", \"JDutc2\"], ycol=\"RvgT\", legend=\"GR in TS\").add_plot(xcol=[\"JDutc1\", \"JDutc2\"], ycol=\"RvsT\", legend=\"SR in TS\").add_plot(xcol=[\"JDutc1\", \"JDutc2\"], ycol=\"RvgsO\", legend=\"GR/SR in SS\")\n",
    "o=p.axis.set_xlabel(\"JD UTC, days\")\n",
    "o=p.axis.set_ylabel(\"RV, m/s\")"
   ]
  },
  {
   "cell_type": "code",
   "execution_count": null,
   "metadata": {},
   "outputs": [],
   "source": []
  }
 ],
 "metadata": {
  "file_extension": ".py",
  "kernelspec": {
   "display_name": "pexo",
   "language": "python",
   "name": "pexo"
  },
  "language_info": {
   "codemirror_mode": {
    "name": "ipython",
    "version": 3
   },
   "file_extension": ".py",
   "mimetype": "text/x-python",
   "name": "python",
   "nbconvert_exporter": "python",
   "pygments_lexer": "ipython3",
   "version": "3.7.1"
  },
  "mimetype": "text/x-python",
  "name": "python",
  "npconvert_exporter": "python",
  "pygments_lexer": "ipython3",
  "version": 3
 },
 "nbformat": 4,
 "nbformat_minor": 2
}
