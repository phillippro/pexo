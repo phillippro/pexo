{
 "cells": [
  {
   "cell_type": "markdown",
   "metadata": {},
   "source": [
    "[< list of demos](Introduction.ipynb#demos)\n",
    "\n",
    "<a id='top'></a>\n",
    "# Custom timing files\n",
    "\n",
    "This demo shows how to calculate barycentric times ([TCB](https://en.wikipedia.org/wiki/Barycentric_Coordinate_Time) and [TDB](https://en.wikipedia.org/wiki/Barycentric_Dynamical_Time)) and radial velocity for a list of Julian dates, using τ Ceti as an example."
   ]
  },
  {
   "cell_type": "markdown",
   "metadata": {},
   "source": [
    "## Arguments:\n",
    "\n",
    "\n",
    "`-p HD10700` - primary star: τ Ceti\n",
    "\n",
    "`-i HARPS` - instrument: HARPS\n",
    "\n",
    "`-t ../input/GJ551.tim` - file containing a list of Julian dates\n",
    "\n",
    "`-m emulate` - PEXO mode\n",
    "\n",
    "`-v 'JDutc BJDtdb BJDtcb ZB` - output variables\n",
    "\n",
    "`-o ../results/tim-out.txt` - output file"
   ]
  },
  {
   "cell_type": "markdown",
   "metadata": {},
   "source": [
    "### Timing file\n",
    "\n",
    "The timing file should contain a list of Julian dates as a single column of integers or floats, or as two columns with the integer and decimal parts separated"
   ]
  },
  {
   "cell_type": "code",
   "execution_count": 2,
   "metadata": {},
   "outputs": [
    {
     "data": {
      "text/html": [
       "<table style=\"text-align: left; font-size: 10pt\"><tr><td style=\"text-align: right; padding: 7px;\">2448705.357</td></tr><tr><td style=\"text-align: right; padding: 7px;\">2448714.324</td></tr><tr><td style=\"text-align: right; padding: 7px;\">2448724.307</td></tr><tr><td style=\"text-align: right; padding: 7px;\">2448736.896</td></tr><tr><td style=\"text-align: right; padding: 7px;\">...</td></tr><tr><td style=\"text-align: right; padding: 7px;\">2450708.563</td></tr></table>"
      ],
      "text/plain": [
       "<utilities.Table at 0x7ff80c693898>"
      ]
     },
     "execution_count": 2,
     "metadata": {},
     "output_type": "execute_result"
    }
   ],
   "source": [
    "from utilities import Table\n",
    "Table(\"../input/GJ551.tim\", header=None, take_top=3, take_bottom=1)"
   ]
  },
  {
   "cell_type": "markdown",
   "metadata": {},
   "source": [
    "## Run the code\n",
    "\n",
    "Execute PEXO with the command below. This may take a few minutes to compute."
   ]
  },
  {
   "cell_type": "code",
   "execution_count": 2,
   "metadata": {
    "scrolled": true
   },
   "outputs": [
    {
     "name": "stdout",
     "output_type": "stream",
     "text": [
      "/home/timberhill/repositories/pexo/code\n",
      "Warning message:\n",
      "package ‘optparse’ was built under R version 3.6.3 \n",
      "Loading required package: polynom\n",
      "Warning messages:\n",
      "1: package ‘orthopolynom’ was built under R version 3.6.3 \n",
      "2: package ‘polynom’ was built under R version 3.6.3 \n",
      "\n",
      "Attaching package: ‘pracma’\n",
      "\n",
      "The following object is masked from ‘package:polynom’:\n",
      "\n",
      "    integral\n",
      "\n",
      "Warning message:\n",
      "package ‘pracma’ was built under R version 3.6.3 \n",
      "Warning message:\n",
      "package ‘foreach’ was built under R version 3.6.3 \n",
      "Loading required package: iterators\n",
      "Loading required package: parallel\n",
      "Warning messages:\n",
      "1: package ‘doMC’ was built under R version 3.6.3 \n",
      "2: package ‘iterators’ was built under R version 3.6.3 \n",
      "Warning message:\n",
      "package ‘MASS’ was built under R version 3.6.3 \n",
      "\n",
      "Input Parameters:\n",
      "mode = emulate \tins = HARPS \tNiter = 1000 \tPlanet = 0 \tgeometry = TRUE \tncore = 4 \tcomponent = TAR \ttime = ../input/GJ551.tim \tprimary = HD10700 \tmass = 1 \tvar = JDutc BJDtdb BJDtcb ZB \tout = ../results/tim-out.txt \tfigure = FALSE \tverbose = FALSE \thelp = FALSE \tdata = ../input/HD10700 \tpar = ../input/basic.par \t\n",
      "\n",
      "Read data files:\n",
      "python cross_match_gaia_hip.py HD10700 \n",
      "Created TAP+ (v1.2.1) - Connection:\n",
      "\tHost: gea.esac.esa.int\n",
      "\tUse HTTPS: True\n",
      "\tPort: 443\n",
      "\tSSL Port: 443\n",
      "Created TAP+ (v1.2.1) - Connection:\n",
      "\tHost: geadata.esac.esa.int\n",
      "\tUse HTTPS: True\n",
      "\tPort: 443\n",
      "\tSSL Port: 443\n",
      "star: HD10700\n",
      "ra1=26.0170143\n",
      "dec1=-14.0625213\n",
      "HIP8102\n",
      "star= HD10700 \n",
      "ra= 26.00930287666994 \n",
      "dec= -15.9337986509412 \n",
      "plx= 277.516215785613 \n",
      "pmra= -1729.725724191139 \n",
      "pmdec= 855.492578244384 \n",
      "rv= -16.597 \n",
      "epoch= 2457206.375 \n",
      "PEXO will treat the target system as a single star!\n",
      "\n",
      "Loading ephermides and EOP and other auxiliary data!\n",
      "\n",
      " Plot and save results!\n",
      "\n",
      "save data to ../results/tim-out.txt \n",
      "\n",
      "Timing effects:\n",
      "Instant second order roemer delay in the solar system: 0.0002861276164883501 second\n",
      "Einstein delay in the solar system: 0.001685048024313573 second\n",
      "Shapiro delay due to all solar system objects: 2.978853654778003e-05 second\n",
      "Shapiro delay due to Sun : 2.978853654778003e-05 second\n",
      "Delay due to proper motion: 1811.425027325439 second\n",
      "Roemer delay in the target system: 0 second\n",
      "Einstein delay in the target system: 0 second\n",
      "Shapiro delay in TS: 0 second\n",
      "Delay due to atmospheric effect: 8.189269619048516e-08 second\n",
      "../results/AllTimes_HD10700_timing_none_Ntime65.pdf \n",
      "\n",
      "Astrometry effects:\n",
      "Second order aberration: 27.43884334509026 as\n",
      "Third order aberration: 12.40648739032965 as\n",
      "Target system lensing: 0 as\n",
      "Second order geometric effect: 0.1650454056432064 as\n",
      "Third order geometric effect: 4.378279961182444e-07 as\n",
      "Atmospheric refraction: 0 as\n",
      "../results/absolute_HD10700_astrometry_none_Ntime65_none.pdf \n",
      "\n",
      "RV effects:\n",
      "Relativistic effects in solar system: 0.2789769553201227 m/s\n",
      "SR effect in TS: 0 m/s\n",
      "GR effect in TS: 0 m/s\n",
      "lensing effect in target system: 0 m/s\n",
      "Second order geometric effects in TS: 0.07269875052455066 m/s\n",
      "Third order geometric effects in TS: 1.968246224658573e-07 m/s\n",
      "Tropospheric RV: 0.006994582378844526 m/s for elevation > 10 deg\n",
      "Tropospheric RV: 0.01703407786122928 m/s for elevation > 5 deg\n",
      "Tropospheric RV: 16.89848847199017 m/s for all elevation angles\n",
      "../results/paper_HD10700_RV_none_Ntime65_none.pdf \n",
      "Total computation time: 0.354 min\n"
     ]
    }
   ],
   "source": [
    "# cd into the code directory\n",
    "%cd ../code\n",
    "\n",
    "# run PEXO via the R script\n",
    "! Rscript pexo.R -p HD10700 -i HARPS -t ../input/GJ551.tim -m emulate -v 'JDutc BJDtdb BJDtcb ZB' -o ../results/tim-out.txt"
   ]
  },
  {
   "cell_type": "markdown",
   "metadata": {},
   "source": [
    "## Output\n",
    "\n",
    "The output file contains a table with the columns specified in `-v` argument above. Each row corresponds to the Julian dates in the timing file. Julian dates are divided into integer and decimal parts to preserve precision."
   ]
  },
  {
   "cell_type": "code",
   "execution_count": 3,
   "metadata": {
    "scrolled": true
   },
   "outputs": [
    {
     "data": {
      "text/html": [
       "<table style=\"text-align: left; font-size: 10pt\"><tr><th style=\"text-align: right; padding: 7px;\">JDutc1</th><th style=\"text-align: right; padding: 7px;\">JDutc2</th><th style=\"text-align: right; padding: 7px;\">BJDtdb1</th><th style=\"text-align: right; padding: 7px;\">BJDtdb2</th><th style=\"text-align: right; padding: 7px;\">BJDtcb1</th><th style=\"text-align: right; padding: 7px;\">BJDtcb2</th><th style=\"text-align: right; padding: 7px;\">ZB</th></tr><tr><td style=\"text-align: right; padding: 7px;\">2448705</td><td style=\"text-align: right; padding: 7px;\">0.357660000212491</td><td style=\"text-align: right; padding: 7px;\">2448705</td><td style=\"text-align: right; padding: 7px;\">0.353284527923088</td><td style=\"text-align: right; padding: 7px;\">2448705</td><td style=\"text-align: right; padding: 7px;\">0.353370750806181</td><td style=\"text-align: right; padding: 7px;\">-2.43930343339915e-05</td></tr><tr><td style=\"text-align: right; padding: 7px;\">2448714</td><td style=\"text-align: right; padding: 7px;\">0.324479999952018</td><td style=\"text-align: right; padding: 7px;\">2448714</td><td style=\"text-align: right; padding: 7px;\">0.319953276186289</td><td style=\"text-align: right; padding: 7px;\">2448714</td><td style=\"text-align: right; padding: 7px;\">0.320039638099356</td><td style=\"text-align: right; padding: 7px;\">-1.0581557822964e-05</td></tr><tr><td style=\"text-align: right; padding: 7px;\">2448724</td><td style=\"text-align: right; padding: 7px;\">0.307210000231862</td><td style=\"text-align: right; padding: 7px;\">2448724</td><td style=\"text-align: right; padding: 7px;\">0.30266127156091</td><td style=\"text-align: right; padding: 7px;\">2448724</td><td style=\"text-align: right; padding: 7px;\">0.30274778825784</td><td style=\"text-align: right; padding: 7px;\">4.8287343838993e-06</td></tr><tr><td style=\"text-align: right; padding: 7px;\">2448736</td><td style=\"text-align: right; padding: 7px;\">0.896240000147372</td><td style=\"text-align: right; padding: 7px;\">2448736</td><td style=\"text-align: right; padding: 7px;\">0.891880567894468</td><td style=\"text-align: right; padding: 7px;\">2448736</td><td style=\"text-align: right; padding: 7px;\">0.891967279789735</td><td style=\"text-align: right; padding: 7px;\">2.58236588823735e-05</td></tr><tr><td style=\"text-align: right; padding: 7px;\">...</td></tr><tr><td style=\"text-align: right; padding: 7px;\">2450708</td><td style=\"text-align: right; padding: 7px;\">0.563924999907613</td><td style=\"text-align: right; padding: 7px;\">2450708</td><td style=\"text-align: right; padding: 7px;\">0.569454112353844</td><td style=\"text-align: right; padding: 7px;\">2450708</td><td style=\"text-align: right; padding: 7px;\">0.569571395500118</td><td style=\"text-align: right; padding: 7px;\">3.58298517368905e-05</td></tr></table>"
      ],
      "text/plain": [
       "<utilities.Table at 0x7ff80c630828>"
      ]
     },
     "execution_count": 3,
     "metadata": {},
     "output_type": "execute_result"
    }
   ],
   "source": [
    "Table(\"../results/tim-out.txt\", digits=24)"
   ]
  },
  {
   "cell_type": "code",
   "execution_count": 4,
   "metadata": {},
   "outputs": [
    {
     "data": {
      "image/png": "[encoded data removed]",
      "text/plain": [
       "<Figure size 864x576 with 1 Axes>"
      ]
     },
     "metadata": {},
     "output_type": "display_data"
    }
   ],
   "source": [
    "from utilities import Plot\n",
    "p = Plot(\"../results/tim-out.txt\", factors=(1, 299792.458)).add_plot(xcol=[\"JDutc1\", \"JDutc2\"], ycol=\"ZB\", marker=\"o\")\n",
    "o=p.axis.set_xlabel(\"JD UTC, days\")\n",
    "o=p.axis.set_ylabel(\"Barycentric RV, km/s\")"
   ]
  },
  {
   "cell_type": "code",
   "execution_count": null,
   "metadata": {},
   "outputs": [],
   "source": []
  }
 ],
 "metadata": {
  "file_extension": ".py",
  "kernelspec": {
   "display_name": "pexo",
   "language": "python",
   "name": "pexo"
  },
  "language_info": {
   "codemirror_mode": {
    "name": "ipython",
    "version": 3
   },
   "file_extension": ".py",
   "mimetype": "text/x-python",
   "name": "python",
   "nbconvert_exporter": "python",
   "pygments_lexer": "ipython3",
   "version": "3.7.1"
  },
  "mimetype": "text/x-python",
  "name": "python",
  "npconvert_exporter": "python",
  "pygments_lexer": "ipython3",
  "version": 3
 },
 "nbformat": 4,
 "nbformat_minor": 2
}
