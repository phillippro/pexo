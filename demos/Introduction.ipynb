{
 "cells": [
  {
   "cell_type": "markdown",
   "metadata": {},
   "source": [
    "# PEXO demos\n",
    "\n",
    "A collection of demonstrations of PEXO usage."
   ]
  },
  {
   "cell_type": "markdown",
   "metadata": {},
   "source": [
    "## Introduction\n",
    "\n",
    "PEXO provides joint modelling of *ns* timing, *μas* astrometry (space-based), and *μ*m s<sup>−1</sup> radial velocities simultaneously, including effects in both Solar System and a Target system. The maths behind the code is published in *Feng et al. 2019* (doi: <a href=\"https://doi.org/10.3847%2F1538-4365%2Fab40b6\">10.3847/1538-4365/ab40b6</a>, arXiv: <a href=\"https://arxiv.org/abs/1910.01750\">1910.01750</a>).\n",
    "\n",
    "These demos use shell commands to run the code, and the ipython notebooks are just used for presentation and convenience. If you want to see example using python, see the <a href=\"https://github.com/timberhill/pexopy\">PEXOpy repository</a>.\n",
    "\n",
    "_Note that if you're running this on Binder, your changes are not saved when you close the window or if it times out, so make sure you download any output you'd like to keep._"
   ]
  },
  {
   "cell_type": "markdown",
   "metadata": {},
   "source": [
    "## Using the teminal\n",
    "\n",
    "To open a terminal in Binder, click _New > Terminal_ (on the right), cd into `code` directory and run PEXO as described in the [documentation](https://rpubs.com/Fabo/pexo2) or the demos below (`Rscript pexo.R <arguments>`). You can also open new Jupyter notebooks or RStudio from the same drop-down menu to run R, browse or edit the files, and add your own files (e.g. input files).\n"
   ]
  },
  {
   "cell_type": "markdown",
   "metadata": {},
   "source": [
    "## Demos\n",
    "<a id='demos'></a>\n",
    "\n",
    "_(Click on the titles to see the live demo and results.)_\n",
    "\n",
    "\n",
    "### Emulation\n",
    "\n",
    "#### 1. [Barycentric Julian dates in TDB or TCB](demo-tdb.ipynb#top) _(single star)_\n",
    "\n",
    "#### 2. [Barycentric radial velocity](demo-bary.ipynb#top) _(single star)_\n",
    "\n",
    "#### 3. [High order effects](demo-high.ipynb#top) _(single star)_\n",
    "\n",
    "#### 4. [Custom timing files](demo-tim.ipynb#top)\n",
    "\n",
    "#### 5. [Binary system simulation - Alpha Centuri B](demo-binary.ipynb#top)\n",
    "\n",
    "\n",
    "### Fitting\n",
    "\n",
    "#### 1. [Single star orbit fit - Tau Ceti](demo-single-fitting.ipynb#top)\n",
    "\n",
    "#### 2. [Binary orbit fit - Alpha Centuri B](demo-binary-fitting-acen.ipynb#top)\n",
    "\n",
    "#### 2. [Binary orbit fit - HD 239960](demo-binary-fitting-HD239960.ipynb#top)"
   ]
  },
  {
   "cell_type": "code",
   "execution_count": null,
   "metadata": {},
   "outputs": [],
   "source": []
  }
 ],
 "metadata": {
  "file_extension": ".py",
  "kernelspec": {
   "display_name": "pexo",
   "language": "python",
   "name": "pexo"
  },
  "language_info": {
   "codemirror_mode": {
    "name": "ipython",
    "version": 3
   },
   "file_extension": ".py",
   "mimetype": "text/x-python",
   "name": "python",
   "nbconvert_exporter": "python",
   "pygments_lexer": "ipython3",
   "version": "3.7.1"
  },
  "mimetype": "text/x-python",
  "name": "python",
  "npconvert_exporter": "python",
  "pygments_lexer": "ipython3",
  "version": 3
 },
 "nbformat": 4,
 "nbformat_minor": 2
}
